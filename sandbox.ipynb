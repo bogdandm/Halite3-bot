{
 "cells": [
  {
   "cell_type": "code",
   "execution_count": 1,
   "metadata": {},
   "outputs": [],
   "source": [
    "import pathlib\n",
    "import sys\n",
    "PATH = pathlib.Path().absolute().resolve()\n",
    "\n",
    "# %matplotlib inline\n",
    "import math\n",
    "import json\n",
    "import numpy as np\n",
    "import matplotlib.pyplot as plt\n",
    "import matplotlib.ticker as tk\n",
    "import seaborn as sns\n",
    "\n",
    "sns.set(style=\"whitegrid\", font_scale=1.4)\n",
    "COLORS = sns.color_palette()"
   ]
  },
  {
   "cell_type": "code",
   "execution_count": 2,
   "metadata": {},
   "outputs": [],
   "source": [
    "from ipywidgets import interact, interactive, fixed, interact_manual\n",
    "import ipywidgets as widgets"
   ]
  },
  {
   "cell_type": "code",
   "execution_count": 3,
   "metadata": {},
   "outputs": [],
   "source": [
    "def ax_style(ax):\n",
    "    ax.grid(which='minor', axis='x', dashes=(5, 5), linewidth=.5)\n",
    "    ax.grid(which='minor', axis='y', dashes=(5, 5), linewidth=.5)\n",
    "    ax.legend()\n",
    "    ax.minorticks_on()\n",
    "    return ax\n"
   ]
  },
  {
   "cell_type": "code",
   "execution_count": 4,
   "metadata": {
    "scrolled": false
   },
   "outputs": [
    {
     "data": {
      "application/vnd.jupyter.widget-view+json": {
       "model_id": "ce4cc6b5647c4a0e80ac12df2e234539",
       "version_major": 2,
       "version_minor": 0
      },
      "text/plain": [
       "interactive(children=(FloatText(value=8.0, description='Maximum y'), FloatText(value=2.0, description='Stop x'…"
      ]
     },
     "metadata": {},
     "output_type": "display_data"
    }
   ],
   "source": [
    "@interact(\n",
    "    a=widgets.FloatText(value=8, description=\"Maximum y\"),\n",
    "    b=widgets.FloatText(value=2, description=\"Stop x\"),\n",
    "    c=widgets.FloatText(value=2, description=\"Distance penalty\"),\n",
    "    g=widgets.FloatText(value=1, description=\"Flat\"),\n",
    ")\n",
    "def _(a, b, c, g):\n",
    "    functions = [\n",
    "        (lambda d: (d + 1) ** 1.3, 'x'),\n",
    "        (lambda d: (a - 1) * (1 - math.e ** -((d / b) ** 2)) + g + d / c, 'custom'),\n",
    "    ]\n",
    "    fig = plt.figure(figsize=(20, 20))\n",
    "\n",
    "    ax1 = fig.add_subplot(321)\n",
    "    ax2 = fig.add_subplot(322)\n",
    "    ax3 = fig.add_subplot(323)\n",
    "    ax4 = fig.add_subplot(324)\n",
    "    ax5 = fig.add_subplot(325)\n",
    "    ax6 = fig.add_subplot(326)\n",
    "    X = np.linspace(0, 64, 100)\n",
    "    X_10 = np.linspace(0, 10, 100)\n",
    "    for i, (fn, name) in enumerate(functions):\n",
    "        v_fn = np.vectorize(fn)\n",
    "        Y = v_fn(X)\n",
    "        Y_10 = v_fn(X_10)\n",
    "        dY = np.zeros(Y.shape, np.float)\n",
    "        dY[0:-1] = np.diff(Y) / np.diff(X)\n",
    "        dY[-1] = (Y[-1] - Y[-2]) / (X[-1] - X[-2])\n",
    "        ax1.plot(X, Y, label=name, color=COLORS[i % len(COLORS)])\n",
    "        ax2.plot(X, dY, label=f\"({name})`\", color=COLORS[i % len(COLORS)])\n",
    "        ax3.plot(X, 1 / Y, label=name, color=COLORS[i % len(COLORS)])\n",
    "        ax4.plot(X, 1 / Y, label=name, color=COLORS[i % len(COLORS)])\n",
    "        ax5.plot(X_10, 1 / Y_10, label=name, color=COLORS[i % len(COLORS)])\n",
    "        ax6.plot(X_10, 1 / Y_10, label=name, color=COLORS[i % len(COLORS)])\n",
    "\n",
    "    for ax in (ax1, ax2, ax3, ax4, ax5, ax6):\n",
    "        ax_style(ax)\n",
    "        if ax in (ax5, ax6):\n",
    "            ax.xaxis.set_ticks(np.arange(0, 10 + 1, 1.0))\n",
    "        else:\n",
    "            ax.xaxis.set_ticks(np.arange(0, 64 + 1, 8.0))\n",
    "    ax4.set_yscale(\"log\")\n",
    "    ax6.set_yscale(\"log\")\n",
    "    fig.tight_layout()\n",
    "    plt.show()\n",
    "    \n",
    "    print(f\"lambda d: {a - 1} * (1 - math.e ** -((d / {b}) ** 2)) + {g} + d / {c}\")"
   ]
  },
  {
   "cell_type": "markdown",
   "metadata": {},
   "source": [
    "-----------------------------------------------------------------------------------------------"
   ]
  },
  {
   "cell_type": "code",
   "execution_count": 11,
   "metadata": {},
   "outputs": [
    {
     "name": "stdout",
     "output_type": "stream",
     "text": [
      "How many replays do you want? 500\n"
     ]
    },
    {
     "name": "stderr",
     "output_type": "stream",
     "text": [
      "500it [00:04, 114.12it/s]\n",
      "100%|████████████████████████████████████████| 500/500 [00:54<00:00, 10.17it/s]\n"
     ]
    }
   ],
   "source": [
    "import requests\n",
    "import zstandard\n",
    "\n",
    "from tqdm import tqdm\n",
    "from requests_futures.sessions import FuturesSession\n",
    "\n",
    "session = FuturesSession(max_workers=50)\n",
    "dctx = zstandard.ZstdDecompressor()\n",
    "\n",
    "matches_url = lambda offset, limit: f\"https://api.2018.halite.io/v1/api/match?order_by=desc,game_id&limit={limit}&offset={offset}\"\n",
    "replay_url = lambda game_id: f\"https://api.2018.halite.io/v1/api/user/0/match/{game_id}/replay\"\n",
    "limit = int(input(\"How many replays do you want? \"))\n",
    "\n",
    "data = []\n",
    "chunk = True\n",
    "step = 100\n",
    "i = 0\n",
    "with tqdm() as progress:\n",
    "    while chunk and step * i < limit:\n",
    "        url = matches_url(step * i, step)\n",
    "        resp = session.get(url)\n",
    "        try:\n",
    "            chunk = resp.result().json()\n",
    "        except json.JSONDecodeError:\n",
    "            print(resp.text)\n",
    "            sleep(1)\n",
    "        else:            \n",
    "            i += 1\n",
    "            data.extend(chunk)\n",
    "            progress.update(step)\n",
    "\n",
    "replays = []\n",
    "futures = [session.get(replay_url(item[\"game_id\"])) for item in data]\n",
    "for item in tqdm(futures):\n",
    "    raw = item.result().content\n",
    "    grid = json.loads(dctx.decompress(raw))['production_map']['grid']\n",
    "    grid = [[x['energy'] for x in row] for row in grid]\n",
    "    replays.append(grid)\n",
    "   "
   ]
  },
  {
   "cell_type": "code",
   "execution_count": 12,
   "metadata": {},
   "outputs": [
    {
     "data": {
      "text/plain": [
       "500"
      ]
     },
     "execution_count": 12,
     "metadata": {},
     "output_type": "execute_result"
    }
   ],
   "source": [
    "len(replays)"
   ]
  }
 ],
 "metadata": {
  "kernelspec": {
   "display_name": "Python 3",
   "language": "python",
   "name": "python3"
  },
  "language_info": {
   "codemirror_mode": {
    "name": "ipython",
    "version": 3
   },
   "file_extension": ".py",
   "mimetype": "text/x-python",
   "name": "python",
   "nbconvert_exporter": "python",
   "pygments_lexer": "ipython3",
   "version": "3.7.0"
  }
 },
 "nbformat": 4,
 "nbformat_minor": 2
}
