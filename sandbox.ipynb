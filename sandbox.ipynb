{
 "cells": [
  {
   "cell_type": "code",
   "execution_count": 1,
   "metadata": {},
   "outputs": [],
   "source": [
    "import pathlib\n",
    "import sys\n",
    "PATH = pathlib.Path().absolute().resolve()\n",
    "\n",
    "# %matplotlib inline\n",
    "import math\n",
    "import json\n",
    "import numpy as np\n",
    "import matplotlib.pyplot as plt\n",
    "import matplotlib.ticker as tk\n",
    "import seaborn as sns\n",
    "\n",
    "sns.set(style=\"whitegrid\", font_scale=1.4)\n",
    "COLORS = sns.color_palette()"
   ]
  },
  {
   "cell_type": "code",
   "execution_count": 2,
   "metadata": {},
   "outputs": [],
   "source": [
    "from ipywidgets import interact, interactive, fixed, interact_manual\n",
    "import ipywidgets as widgets"
   ]
  },
  {
   "cell_type": "code",
   "execution_count": 3,
   "metadata": {},
   "outputs": [],
   "source": [
    "def ax_style(ax):\n",
    "    ax.grid(which='minor', axis='x', dashes=(5, 5), linewidth=.5)\n",
    "    ax.grid(which='minor', axis='y', dashes=(5, 5), linewidth=.5)\n",
    "    ax.legend()\n",
    "    ax.minorticks_on()\n",
    "    return ax\n"
   ]
  },
  {
   "cell_type": "code",
   "execution_count": 25,
   "metadata": {},
   "outputs": [
    {
     "data": {
      "application/vnd.jupyter.widget-view+json": {
       "model_id": "15c73ab6593c4e7bad56691b21ae436a",
       "version_major": 2,
       "version_minor": 0
      },
      "text/plain": [
       "interactive(children=(FloatText(value=10.0, description='Maximum y'), FloatText(value=8.0, description='Stop x…"
      ]
     },
     "metadata": {},
     "output_type": "display_data"
    }
   ],
   "source": [
    "@interact(\n",
    "    a=widgets.FloatText(value=10, description=\"Maximum y\"),\n",
    "    b=widgets.FloatText(value=8, description=\"Stop x\"),\n",
    "    c=widgets.FloatText(value=1, description=\"Distance penalty\")\n",
    ")\n",
    "def _(a, b, c):\n",
    "    functions = [\n",
    "        (lambda d: (d + 1) ** 1.3, 'x'),\n",
    "        (lambda d: (a - 1) * (1 - math.e ** -((d / b) ** 2)) + 1 + d / c, 'custom'),\n",
    "    ]\n",
    "    fig = plt.figure(figsize=(20, 10))\n",
    "\n",
    "    ax1 = fig.add_subplot(221)\n",
    "    ax2 = fig.add_subplot(222)\n",
    "    ax3 = fig.add_subplot(223)\n",
    "    ax4 = fig.add_subplot(224)\n",
    "    X = np.linspace(0, 64, 100)\n",
    "    for i, (fn, name) in enumerate(functions):\n",
    "        v_fn = np.vectorize(fn)\n",
    "        Y = v_fn(X)\n",
    "        dY = np.zeros(Y.shape, np.float)\n",
    "        dY[0:-1] = np.diff(Y) / np.diff(X)\n",
    "        dY[-1] = (Y[-1] - Y[-2]) / (X[-1] - X[-2])\n",
    "        ax1.plot(X, Y, label=name, color=COLORS[i % len(COLORS)])\n",
    "        ax2.plot(X, dY, label=f\"({name})`\", color=COLORS[i % len(COLORS)])\n",
    "        ax3.plot(X, 1 / Y, label=name, color=COLORS[i % len(COLORS)])\n",
    "        ax4.plot(X, 1 / Y, label=name, color=COLORS[i % len(COLORS)])\n",
    "\n",
    "    ax_style(ax1)\n",
    "    ax_style(ax2)\n",
    "    ax_style(ax3)\n",
    "    ax_style(ax4)\n",
    "    ax4.set_yscale(\"log\")\n",
    "    fig.tight_layout()\n",
    "    plt.show()\n",
    "    \n",
    "    print(f\"lambda d: {a - 1} * (1 - math.e ** -((d / {b}) ** 2)) + 1 + d / {c}\")"
   ]
  },
  {
   "cell_type": "code",
   "execution_count": null,
   "metadata": {},
   "outputs": [],
   "source": []
  }
 ],
 "metadata": {
  "kernelspec": {
   "display_name": "Python 3",
   "language": "python",
   "name": "python3"
  },
  "language_info": {
   "codemirror_mode": {
    "name": "ipython",
    "version": 3
   },
   "file_extension": ".py",
   "mimetype": "text/x-python",
   "name": "python",
   "nbconvert_exporter": "python",
   "pygments_lexer": "ipython3",
   "version": "3.7.0"
  }
 },
 "nbformat": 4,
 "nbformat_minor": 2
}
