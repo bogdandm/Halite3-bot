{
 "cells": [
  {
   "cell_type": "markdown",
   "metadata": {},
   "source": [
    "### Requirements\n",
    "- matplotlib\n",
    "- numpy\n",
    "- pandas\n",
    "- seaborn\n",
    "- joypy\n",
    "- scipy\n",
    "- requests\n",
    "- (optional) tqdm"
   ]
  },
  {
   "cell_type": "code",
   "execution_count": null,
   "metadata": {},
   "outputs": [],
   "source": [
    "from IPython.display import HTML\n",
    "\n",
    "HTML('''<script>\n",
    "code_show=true; \n",
    "function code_toggle() {\n",
    " if (code_show){\n",
    " $('div.input').hide();\n",
    " } else {\n",
    " $('div.input').show();\n",
    " }\n",
    " code_show = !code_show\n",
    "} \n",
    "$( document ).ready(code_toggle);\n",
    "</script>\n",
    "<form action=\"javascript:code_toggle()\"><input type=\"submit\" value=\"Click here to toggle on/off the raw code.\"></form>''')"
   ]
  },
  {
   "cell_type": "code",
   "execution_count": null,
   "metadata": {},
   "outputs": [],
   "source": [
    "%%HTML\n",
    "<style type=\"text/css\">\n",
    "table.dataframe td, table.dataframe th, .rendered_html table td, .rendered_html table th {\n",
    "  border: 1px  black solid !important;\n",
    "  color: black !important;\n",
    "}"
   ]
  },
  {
   "cell_type": "code",
   "execution_count": null,
   "metadata": {},
   "outputs": [],
   "source": [
    "import pathlib\n",
    "import sys\n",
    "PATH = pathlib.Path().absolute().resolve()\n",
    "\n",
    "%matplotlib inline\n",
    "import math\n",
    "import json\n",
    "import numpy as np\n",
    "import pandas as pd\n",
    "import matplotlib.pyplot as plt\n",
    "import matplotlib.ticker as tk\n",
    "import matplotlib.colors as clr\n",
    "import joypy as jp\n",
    "import seaborn as sns\n",
    "    \n",
    "sns.set(style=\"whitegrid\", font_scale=1.4)\n",
    "pd.set_option('display.float_format', '{:.2f}'.format)\n",
    "COLORS = sns.color_palette()"
   ]
  },
  {
   "cell_type": "code",
   "execution_count": null,
   "metadata": {},
   "outputs": [],
   "source": [
    "import ipywidgets\n",
    "from scipy.signal import savgol_filter"
   ]
  },
  {
   "cell_type": "code",
   "execution_count": null,
   "metadata": {},
   "outputs": [],
   "source": [
    "import json\n",
    "import requests\n",
    "from dateutil.parser import parse as date_parse\n",
    "from datetime import datetime, timedelta\n",
    "from time import sleep\n",
    "try:\n",
    "    from tqdm import tqdm\n",
    "except ImportError:\n",
    "    # tqdm placeholder\n",
    "    class tqdm:\n",
    "        def __init__(self, it=None): \n",
    "            self.it=it\n",
    "        def __enter__(self): \n",
    "            return self\n",
    "        def __exit__(self, *args, **kwargs): \n",
    "            pass\n",
    "        def __iter__(self): \n",
    "            return iter(self.it)\n",
    "        def update(*args): \n",
    "            pass"
   ]
  },
  {
   "cell_type": "code",
   "execution_count": null,
   "metadata": {},
   "outputs": [],
   "source": [
    "from IPython.display import Javascript, display\n",
    "from ipywidgets import widgets\n",
    "\n",
    "def run_all(ev):\n",
    "    display(Javascript('IPython.notebook.execute_cells_below()'))"
   ]
  },
  {
   "cell_type": "code",
   "execution_count": null,
   "metadata": {},
   "outputs": [],
   "source": [
    "user_id = int(input(\"Type user id here (number): \"))"
   ]
  },
  {
   "cell_type": "code",
   "execution_count": null,
   "metadata": {},
   "outputs": [],
   "source": [
    "matches_url = lambda offset, limit=100: f\"https://api.2018.halite.io/v1/api/user/{user_id}/match?offset={offset}&limit={limit}\""
   ]
  },
  {
   "cell_type": "code",
   "execution_count": null,
   "metadata": {},
   "outputs": [],
   "source": [
    "print(\"Loading data... It may take a while...\")\n",
    "data = []\n",
    "chunk = True\n",
    "step = 100\n",
    "i = 0\n",
    "with tqdm() as progress:\n",
    "    while chunk:\n",
    "        url = matches_url(step * i, step)\n",
    "        resp = requests.get(url)\n",
    "        try:\n",
    "            chunk = resp.json()\n",
    "        except json.JSONDecodeError:\n",
    "            print(resp.text)\n",
    "            sleep(1)\n",
    "        else:            \n",
    "            i += 1\n",
    "            data.extend(chunk)\n",
    "            progress.update(step)"
   ]
  },
  {
   "cell_type": "code",
   "execution_count": null,
   "metadata": {},
   "outputs": [],
   "source": [
    "next(filter(lambda x: \"13 Dec\" in x['time_played'],data))"
   ]
  },
  {
   "cell_type": "code",
   "execution_count": null,
   "metadata": {},
   "outputs": [],
   "source": [
    "print(\"Creating dataset...\")"
   ]
  },
  {
   "cell_type": "code",
   "execution_count": null,
   "metadata": {},
   "outputs": [],
   "source": [
    "filtered_data = []\n",
    "for item in data:\n",
    "    if item['challenge_id'] is not None:\n",
    "        continue\n",
    "    p = item[\"players\"][str(user_id)]\n",
    "    stats = item[\"stats\"][\"player_statistics\"][p[\"player_index\"]]\n",
    "    row = {        \n",
    "        \"game_id\": item[\"game_id\"],\n",
    "        \"time_played\": date_parse(item[\"time_played\"]),\n",
    "        \"mu\": p[\"mu\"],\n",
    "        \"sigma\": p[\"sigma\"],\n",
    "        \"leaderboard_rank\": p[\"leaderboard_rank\"],\n",
    "        \"version\": p[\"version_number\"],\n",
    "        \"num_players\": float(len(item[\"players\"])),\n",
    "        \"h_total\": stats[\"final_production\"] / 1000,\n",
    "        \"h_total_2\": stats[\"total_production\"] / 1000,\n",
    "        \"h_mined\": stats[\"total_mined\"] / 1000,\n",
    "        \"h_dropped\": stats.get(\"total_dropped\", np.nan) / 1000,\n",
    "        \"h_inspiration\": stats.get(\"total_bonus\", np.nan) / 1000,\n",
    "        \"map_size\": item[\"map_height\"],\n",
    "        \"ships_spawned\": stats.get(\"ships_spawned\", np.nan),\n",
    "        \"dropoffs\": len(stats[\"halite_per_dropoff\"]),\n",
    "    } \n",
    "    filtered_data.append(row)"
   ]
  },
  {
   "cell_type": "code",
   "execution_count": null,
   "metadata": {},
   "outputs": [],
   "source": [
    "df = pd.DataFrame(filtered_data)\n",
    "df['timestamp'] = df.time_played.apply(lambda dt: int(dt.timestamp()))\n",
    "df.set_index(\"time_played\", inplace=True)\n",
    "df.sort_index(inplace=True, ascending=False)"
   ]
  },
  {
   "cell_type": "code",
   "execution_count": null,
   "metadata": {},
   "outputs": [],
   "source": [
    "tmp = df[df.num_players == 3].index\n",
    "if len(tmp):\n",
    "    df.drop(tmp, inplace=True)"
   ]
  },
  {
   "cell_type": "code",
   "execution_count": null,
   "metadata": {},
   "outputs": [],
   "source": [
    "df['num_games'] = -1\n",
    "for version in sorted(df.version.unique()):\n",
    "    df_tmp = df[df.version == version]\n",
    "    for i, ix in enumerate(df_tmp.index[::-1]):\n",
    "        ix = ix.isoformat()\n",
    "        df.loc[ix, 'num_games'] = i + 1"
   ]
  },
  {
   "cell_type": "code",
   "execution_count": null,
   "metadata": {},
   "outputs": [],
   "source": [
    "df.head()"
   ]
  },
  {
   "cell_type": "code",
   "execution_count": null,
   "metadata": {},
   "outputs": [],
   "source": [
    "_start_date = ipywidgets.DatePicker(description='Pick a start date', disabled=False, style={'description_width': 'initial'})\n",
    "_start_date.observe(run_all, names='value')"
   ]
  },
  {
   "cell_type": "code",
   "execution_count": null,
   "metadata": {},
   "outputs": [],
   "source": [
    "display(_start_date)"
   ]
  },
  {
   "cell_type": "code",
   "execution_count": null,
   "metadata": {},
   "outputs": [],
   "source": [
    "start_timestamp = int(datetime.combine(_start_date.value, datetime.min.time()).timestamp()) if _start_date.value else None\n",
    "df_filtered = df[df.timestamp > start_timestamp] if start_timestamp else df\n",
    "df_filtered = df_filtered[df_filtered.sigma < 2]\n",
    "df_filtered.describe()\\\n",
    "  [['mu', 'sigma', 'num_players', 'h_total', 'h_mined', 'h_dropped', 'h_inspiration', 'ships_spawned', 'dropoffs']].T\\\n",
    "  [['mean', 'std', 'min', 'max']]"
   ]
  },
  {
   "cell_type": "code",
   "execution_count": null,
   "metadata": {},
   "outputs": [],
   "source": [
    "with pd.option_context(\"display.max_rows\", 10,\"display.max_columns\", 50):\n",
    "    display(\n",
    "        df_filtered.groupby(['num_players', 'map_size'])\n",
    "          [['h_total', 'h_total_2', 'h_mined', 'h_dropped', 'h_inspiration', 'ships_spawned', 'dropoffs']]\n",
    "          .agg([np.mean, np.std])\n",
    "          .style.bar(color='#d65f5f', width=75)\n",
    "    )"
   ]
  },
  {
   "cell_type": "code",
   "execution_count": null,
   "metadata": {},
   "outputs": [],
   "source": [
    "versions = sorted(df_filtered.version.unique())"
   ]
  },
  {
   "cell_type": "code",
   "execution_count": null,
   "metadata": {
    "scrolled": false
   },
   "outputs": [],
   "source": [
    "fig = plt.figure(figsize=(20, 10), dpi=200)\n",
    "ax = fig.add_subplot(111)\n",
    "\n",
    "# Split mu sequnce by version, filtered it and join \n",
    "Mean = None\n",
    "for version in versions:\n",
    "    df_tmp = df_filtered[df_filtered.version == version]\n",
    "    window = min(df_tmp.mu.count() // 8 * 2 + 1, 101)\n",
    "    tmp = savgol_filter(df_tmp.mu, window, 5) if window > 10 else df_tmp.mu\n",
    "    Mean = tmp if Mean is None else np.concatenate((tmp, Mean))\n",
    "    ax.axvline(df_tmp.index.min(), linestyle='--', linewidth=1, color='black')\n",
    "\n",
    "Sigma = df_filtered.sigma\n",
    "Top = Mean + 2 * Sigma\n",
    "Bottom = Mean - 2 * Sigma\n",
    "\n",
    "ax.fill_between(df_filtered.index, Bottom, Top, alpha=.1)\n",
    "for Y in (Top, Bottom):\n",
    "    ax.plot(df_filtered.index, Y, c=COLORS[0], linewidth=.5)\n",
    "ax.plot(df_filtered.index, Mean, c=COLORS[0])\n",
    "ax.plot(df_filtered.index, df_filtered.mu, '.', c=COLORS[0])\n",
    "\n",
    "ax.set_xlim(df_filtered.index.min(), df_filtered.index.max())\n",
    "ax.set_ylabel(\"Mu +- 2 * Sigma (Score)\")\n",
    "ax.grid(which='minor', axis='x', dashes=(5, 5), linewidth=.5)\n",
    "ax.grid(which='minor', axis='y', dashes=(5, 5), linewidth=.5)\n",
    "ax.minorticks_on()\n",
    "fig.tight_layout()\n",
    "plt.show()"
   ]
  },
  {
   "cell_type": "code",
   "execution_count": null,
   "metadata": {
    "scrolled": false
   },
   "outputs": [],
   "source": [
    "fig = plt.figure(figsize=(20, 20), dpi=200)\n",
    "ax1 = fig.add_subplot(211)\n",
    "ax2 = fig.add_subplot(212)\n",
    "for i, ax in enumerate((ax1, ax2)):\n",
    "    df_tmp_p = df_filtered[df_filtered.num_players == (i + 1) * 2]\n",
    "    for version in versions:    \n",
    "        df_tmp = df_tmp_p[df_tmp_p.version == version]\n",
    "        if len(df_tmp) < 3:\n",
    "            continue\n",
    "        sns.regplot(x=df_tmp.timestamp, y=df_tmp.h_mined, scatter_kws=dict(s=2), ax=ax, truncate=True, color=COLORS[0])\n",
    "        sns.regplot(x=df_tmp.timestamp, y=df_tmp.h_total, scatter_kws=dict(s=2), ax=ax, truncate=True, color=COLORS[1])\n",
    "        sns.regplot(x=df_tmp.timestamp, y=df_tmp.h_inspiration, scatter_kws=dict(s=2), ax=ax, truncate=True, color=COLORS[2])\n",
    "        ax.axvline(df_tmp.timestamp.min(), linestyle='--', linewidth=.5, color='black')\n",
    "    ax.grid(which='minor', axis='x', dashes=(5, 5), linewidth=.5)\n",
    "    ax.grid(which='minor', axis='y', dashes=(5, 5), linewidth=.5)\n",
    "    ax.minorticks_on()\n",
    "    m, s = df_filtered.h_mined.mean(), df_filtered.h_mined.std()\n",
    "    ax.set_ylim(0, m + 2 * s)\n",
    "ax1.set_title(\"2P games\")\n",
    "ax2.set_title(\"4P games\")\n",
    "fig.tight_layout()\n",
    "plt.show()"
   ]
  },
  {
   "cell_type": "code",
   "execution_count": null,
   "metadata": {
    "scrolled": false
   },
   "outputs": [],
   "source": [
    "axes = sns.pairplot(df_filtered, vars=['h_total', 'h_mined', 'h_inspiration'], hue=\"num_players\", height=5).axes\n",
    "for row in axes:\n",
    "    for ax in row:\n",
    "        ax.grid(which='minor', axis='x', dashes=(5, 5), linewidth=.5)\n",
    "        ax.grid(which='minor', axis='y', dashes=(5, 5), linewidth=.5)\n",
    "        ax.minorticks_on()"
   ]
  },
  {
   "cell_type": "code",
   "execution_count": null,
   "metadata": {},
   "outputs": [],
   "source": [
    "tmp = df_filtered[['h_total', 'h_total_2', 'h_mined', 'h_dropped', 'h_inspiration', 'ships_spawned', 'dropoffs', 'map_size']]\\\n",
    "  .corr().apply(abs)\n",
    "\n",
    "fig = plt.figure(figsize=(7, 7), dpi=100)\n",
    "ax = fig.add_subplot(111)\n",
    "ax.set_title(\"Correlation matrix (absolute values)\")\n",
    "sns.heatmap(tmp, ax=ax, annot=True, fmt=\".0%\", linewidths=.1, square=True)\n",
    "fig.tight_layout()\n",
    "plt.show()"
   ]
  },
  {
   "cell_type": "code",
   "execution_count": null,
   "metadata": {},
   "outputs": [],
   "source": [
    "plt.figure(figsize=(16,10), dpi= 80)\n",
    "fig, axes = jp.joyplot(\n",
    "    df_filtered, column='h_inspiration', by=[\"num_players\", \"map_size\"],\n",
    "    figsize=(14,10), linewidth=1, fill=False, grid='y', title=\"Inspiration distribution\"\n",
    ")\n",
    "for ax in axes:\n",
    "    ax.grid(which='major', axis='x')\n",
    "    ax.grid(which='minor', axis='x', dashes=(5, 5), linewidth=.5)\n",
    "    ax.minorticks_on()\n",
    "fig.tight_layout()\n",
    "plt.show()"
   ]
  },
  {
   "cell_type": "code",
   "execution_count": null,
   "metadata": {},
   "outputs": [],
   "source": [
    "plt.figure(figsize=(16,10), dpi= 80)\n",
    "fig, axes = jp.joyplot(\n",
    "    df_filtered, column='h_mined', by=[\"num_players\", \"map_size\"],\n",
    "    figsize=(14,10), linewidth=1, fill=False, grid='y', title=\"Mined halite distribution\"\n",
    ")\n",
    "for ax in axes:\n",
    "    ax.grid(which='major', axis='x')\n",
    "    ax.grid(which='minor', axis='x', dashes=(5, 5), linewidth=.5)\n",
    "    ax.minorticks_on()\n",
    "fig.tight_layout()\n",
    "plt.show()"
   ]
  },
  {
   "cell_type": "raw",
   "metadata": {},
   "source": [
    "stats['total_mined'] + stats['total_bonus'] - stats['total_production'] - stats['total_dropped'] - stats['carried_at_end']\n"
   ]
  }
 ],
 "metadata": {
  "kernelspec": {
   "display_name": "Python 3",
   "language": "python",
   "name": "python3"
  },
  "language_info": {
   "codemirror_mode": {
    "name": "ipython",
    "version": 3
   },
   "file_extension": ".py",
   "mimetype": "text/x-python",
   "name": "python",
   "nbconvert_exporter": "python",
   "pygments_lexer": "ipython3",
   "version": "3.7.0"
  }
 },
 "nbformat": 4,
 "nbformat_minor": 2
}
