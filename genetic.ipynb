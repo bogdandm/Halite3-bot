{
 "cells": [
  {
   "cell_type": "code",
   "execution_count": null,
   "metadata": {},
   "outputs": [],
   "source": [
    "from IPython.display import HTML\n",
    "\n",
    "HTML('''<script>\n",
    "code_show=true; \n",
    "function code_toggle() {\n",
    " if (code_show){\n",
    " $('div.input').hide();\n",
    " } else {\n",
    " $('div.input').show();\n",
    " }\n",
    " code_show = !code_show\n",
    "} \n",
    "$( document ).ready(code_toggle);\n",
    "</script>\n",
    "<form action=\"javascript:code_toggle()\"><input type=\"submit\" value=\"Click here to toggle on/off the raw code.\"></form>''')"
   ]
  },
  {
   "cell_type": "code",
   "execution_count": null,
   "metadata": {},
   "outputs": [],
   "source": [
    "import pathlib\n",
    "import sys\n",
    "PATH = pathlib.Path().absolute().resolve()"
   ]
  },
  {
   "cell_type": "code",
   "execution_count": null,
   "metadata": {},
   "outputs": [],
   "source": [
    "%matplotlib inline\n",
    "import math\n",
    "import json\n",
    "import numpy as np\n",
    "import matplotlib.pyplot as plt\n",
    "from scipy.interpolate import griddata\n",
    "import matplotlib.ticker as tk\n",
    "import seaborn as sns\n",
    "from scipy.signal import savgol_filter\n",
    "\n",
    "sns.set(style=\"whitegrid\", font_scale=1.4)\n",
    "COLORS = sns.color_palette()"
   ]
  },
  {
   "cell_type": "code",
   "execution_count": null,
   "metadata": {},
   "outputs": [],
   "source": [
    "from genetic import vars\n",
    "vars.DB = \"genetic_remote.db\"\n",
    "from genetic.db_connection import SqlEngine, Session\n",
    "from genetic.models import BotInstance\n",
    "from genetic.bot_model import BotArguments as BotArgumentsCurrent\n",
    "from bot.utils import disable_print\n",
    "BotArguments = BotArgumentsCurrent()\n",
    "\n",
    "from sqlalchemy import orm\n",
    "import sqlalchemy as sql\n",
    "import operator\n",
    "from collections import defaultdict\n",
    "import statistics"
   ]
  },
  {
   "cell_type": "code",
   "execution_count": null,
   "metadata": {},
   "outputs": [],
   "source": [
    "max_games = Session.query(sql.func.max(BotInstance.game4_count)).one()[0]\n",
    "bots = list(Session.query(BotInstance).filter_by(game4_count=max_games))\n",
    "last_generation = list(Session.query(BotInstance).filter_by(generation=Session.query(sql.func.max(BotInstance.generation))))\n",
    "Halite = Session.query(BotInstance.generation, sql.func.sum(BotInstance.halite))\\\n",
    "    .filter_by(game4_count=max_games)\\\n",
    "    .group_by(BotInstance.generation)\\\n",
    "    .all()\n",
    "Halite = {g: h for g, h in Halite}\n",
    "Halite = np.fromiter([Halite[i] for i in range(max(Halite.keys()) + 1)], dtype=np.double)"
   ]
  },
  {
   "cell_type": "code",
   "execution_count": null,
   "metadata": {},
   "outputs": [],
   "source": [
    "from genetic.core import GeneticOptimizer, GeneticOptimizerCore\n",
    "GeneticOptimizer(GeneticOptimizerCore(BotArguments)).print()"
   ]
  },
  {
   "cell_type": "code",
   "execution_count": null,
   "metadata": {},
   "outputs": [],
   "source": [
    "def moving_average(a, n=3) :\n",
    "    ret = np.cumsum(a, dtype=float)\n",
    "    ret[n:] = ret[n:] - ret[:-n]\n",
    "    return ret[n - 1:] / n"
   ]
  },
  {
   "cell_type": "code",
   "execution_count": null,
   "metadata": {
    "scrolled": false
   },
   "outputs": [],
   "source": [
    "names = [name for name, _ in BotArguments]\n",
    "data = bots\n",
    "\n",
    "fig = plt.figure(figsize=(20, 7 * len(names)))\n",
    "for i, name in enumerate(names):\n",
    "    ax = fig.add_subplot(len(names) * 100 + 10 + i + 1)\n",
    "    X, Y = [bot.args_dict[name] for bot in data], [bot.halite for bot in data]\n",
    "    X, Y = zip(*sorted(zip(X, Y), key=operator.itemgetter(0)))\n",
    "    X, Y = np.fromiter(X, dtype=float), np.fromiter(Y, dtype=float)\n",
    "    ax.plot(X, Y, '.' if len(X) > 250 else 'x', alpha=.5  if len(X) > 250 else 1, color=COLORS[i % len(COLORS)], label='Raw data')\n",
    "    \n",
    "    if len(X) > 250:\n",
    "        with disable_print():\n",
    "            Y_smooth = savgol_filter(Y, 201, 3)\n",
    "        ax.plot(X, Y_smooth, linewidth=3, color=COLORS[i % len(COLORS)], label=\"Savgol filter\")\n",
    "\n",
    "        Y_ma = moving_average(Y, n=10)\n",
    "        n_diff = len(X) - len(Y_ma)\n",
    "        X_ma = X[n_diff//2:-n_diff + n_diff//2]\n",
    "        ax.plot(X_ma, Y_ma, color=COLORS[i % len(COLORS)], alpha=.5, label=\"Moving average\")\n",
    "    \n",
    "#         with disable_print():\n",
    "#             Y_ma_smooth = savgol_filter(Y_ma, min(201, len(X) // 10) | 1, min(201, len(X) // 10) - 1)\n",
    "#         ax.plot(X_ma, Y_ma_smooth, linewidth=3, linestyle='--', color=COLORS[i % len(COLORS)], \n",
    "#                 label=\"Savgol filter (moving average)\")\n",
    "    \n",
    "    ax.set_title(name.replace(\"_\", \" \").capitalize())    \n",
    "    ax.grid(which='minor', axis='x', dashes=(5, 5), linewidth=.5)\n",
    "    ax.grid(which='minor', axis='y', dashes=(5, 5), linewidth=.5)\n",
    "    ax.legend()\n",
    "    ax.minorticks_on()\n",
    "    \n",
    "fig.tight_layout()\n",
    "plt.show()"
   ]
  },
  {
   "cell_type": "code",
   "execution_count": null,
   "metadata": {},
   "outputs": [],
   "source": [
    "max_halite = Y.max()"
   ]
  },
  {
   "cell_type": "code",
   "execution_count": null,
   "metadata": {},
   "outputs": [],
   "source": [
    "first = operator.itemgetter(0)\n",
    "second = operator.itemgetter(1)\n",
    "\n",
    "def bots_args_stats(bots, arg_name):\n",
    "    data = defaultdict(list)\n",
    "    for bot in bots:\n",
    "        data[bot.generation].append((bot.args_dict[arg_name], bot.halite))\n",
    "    numpy_data = [np.fromiter(map(first, x), dtype=float) for x in data.values()]\n",
    "    meta = getattr(BotArguments, arg_name)\n",
    "    numpy_norm_data = [(x - meta.min) / (meta.max - meta.min) for x in numpy_data]\n",
    "    return [\n",
    "        (min(x), np.average(x, weights=[second(y) for y in data[i]]), max(x))\n",
    "        for i, x in enumerate(numpy_norm_data)\n",
    "    ]"
   ]
  },
  {
   "cell_type": "code",
   "execution_count": null,
   "metadata": {
    "scrolled": false
   },
   "outputs": [],
   "source": [
    "X = np.arange(\n",
    "    Session.query(sql.func.min(BotInstance.generation)).one()[0], \n",
    "    Session.query(sql.func.max(BotInstance.generation)).filter_by(game4_count=max_games).one()[0] + 1\n",
    ")\n",
    "\n",
    "fig = plt.figure(figsize=(20, 7 * len(names)))\n",
    "for i, name in enumerate(names):\n",
    "    ax = fig.add_subplot(len(names) * 100 + 10 + i + 1)\n",
    "    Y_min, Y_mean, Y_max = [np.fromiter(it, dtype=float) for it in zip(*bots_args_stats(bots, name))]\n",
    "    ax.fill_between(X, Y_min, Y_max, facecolor=COLORS[i % len(COLORS)], alpha=.1)\n",
    "    ax.plot(X, Y_min, linestyle='--', color=COLORS[i % len(COLORS)], label=\"min\")\n",
    "    ax.plot(X, Y_mean, color=COLORS[i % len(COLORS)], label=\"weighted average\")\n",
    "    ax.plot(X, Y_max, linestyle='--', color=COLORS[i % len(COLORS)], label=\"max\")\n",
    "    ax.plot(X, Halite / Halite.max() - .7, linestyle='--', color='black', label='% halite - 70%')\n",
    "    ax.set_title(name.replace(\"_\", \" \").capitalize())\n",
    "    ax.legend()\n",
    "    \n",
    "    ax.grid(which='minor', axis='y', dashes=(5, 5), linewidth=.5)\n",
    "    ax.minorticks_on()\n",
    "    ax.xaxis.set_major_locator(tk.MaxNLocator(integer=True))\n",
    "    vals = ax.get_yticks()\n",
    "    ax.set_yticklabels(['{:,.0%}'.format(x) for x in vals])\n",
    "\n",
    "fig.tight_layout()\n",
    "plt.show()"
   ]
  },
  {
   "cell_type": "code",
   "execution_count": null,
   "metadata": {},
   "outputs": [],
   "source": []
  }
 ],
 "metadata": {
  "kernelspec": {
   "display_name": "Python 3",
   "language": "python",
   "name": "python3"
  },
  "language_info": {
   "codemirror_mode": {
    "name": "ipython",
    "version": 3
   },
   "file_extension": ".py",
   "mimetype": "text/x-python",
   "name": "python",
   "nbconvert_exporter": "python",
   "pygments_lexer": "ipython3",
   "version": "3.7.0"
  }
 },
 "nbformat": 4,
 "nbformat_minor": 2
}
